{
 "cells": [
  {
   "cell_type": "markdown",
   "metadata": {},
   "source": [
    "Solution to stream power law in 1D.\n",
    "First import the relavent libraries:\n",
    "numpy - a library for numerical functions\n",
    "matplotlib - a library of plotting functions"
   ]
  },
  {
   "cell_type": "code",
   "execution_count": 1,
   "metadata": {},
   "outputs": [],
   "source": [
    "import numpy as np\n",
    "import matplotlib.pyplot as plt"
   ]
  },
  {
   "cell_type": "markdown",
   "metadata": {},
   "source": [
    "Now we set up the model parameters, the coefficient of erosion, k, and the water flux exponent, m. We also set up the model run time, 10e6 years, the rate of uplift, 1e-4 m/yr, precipiation rate, 1 m/yr."
   ]
  },
  {
   "cell_type": "code",
   "execution_count": 2,
   "metadata": {},
   "outputs": [],
   "source": [
    "K      = 5e-5\n",
    "m      = 0.5\n",
    "t_end  = 10e6\n",
    "up0    = 1e-4\n",
    "alpha  = 1"
   ]
  },
  {
   "cell_type": "markdown",
   "metadata": {},
   "source": [
    "We will model over a certain system length, for which we need to define a 1D array of x-values, and the equivalent arrayto store the elevation, z. We will solve the equations going up the system from bottom to top. To calculate the slope, difference in elevation, we need an extra point in elevation. Therefore we will define the array for z with an extra element. We set up distance, x, as going from 0 to 100,000 m in 100 increments. The array for elevation, z, is initialised as being equal to zero, and has an extra element."
   ]
  },
  {
   "cell_type": "code",
   "execution_count": 3,
   "metadata": {},
   "outputs": [],
   "source": [
    "nx     = 100\n",
    "x      = np.linspace(0,100e3,nx)\n",
    "dx     = x[1]-x[0]\n",
    "z      = np.zeros(nx+1)"
   ]
  },
  {
   "cell_type": "markdown",
   "metadata": {},
   "source": [
    "Now we want to calculate hte upstream area for each position in space. We assume that the upstream dranaige area, DA, is equal to the distance upstream, x, raised to the power 1.4. Why 1.4? It is empirically observed that length of the main stream in a catchment is proportional to the catchment area raised to the power h, where h is the Hack exponent, and 0.7<h<0.5. This main stream length is related to the longitudinal length of the cathchment as x raised to the power d, where 1<d<1.1. Therefore the longitudinal length (x in our model) is realted to catchemnt area raised to the power p (hackFactor), where p=d/h. Therefore we get 1.4<p<2 for the hackFactor.\n",
    "\n",
    "As for elevation we make this array of catchment area on element longer by inserting the first value in the first spot of the array, hence lengthening it by one element. Finally we calculate the parameter a = -K (alpha * x^p)^m."
   ]
  },
  {
   "cell_type": "code",
   "execution_count": 4,
   "metadata": {},
   "outputs": [],
   "source": [
    "hackFactor = 1.4\n",
    "DA         = np.power(x,hackFactor)\n",
    "DA         = np.insert(DA,0,[DA[0]],axis=0)\n",
    "a          = -K * np.power(alpha*DA,m)"
   ]
  },
  {
   "cell_type": "markdown",
   "metadata": {},
   "source": [
    "Now we set up the time stepping. The number of time steps is 10,000, and we make a vector of the time, and calculate the size of the timestep. "
   ]
  },
  {
   "cell_type": "code",
   "execution_count": 5,
   "metadata": {},
   "outputs": [],
   "source": [
    "nt    = 10000\n",
    "times = np.linspace(0,t_end,nt)\n",
    "dt    = times[1]-times[0]"
   ]
  },
  {
   "cell_type": "markdown",
   "metadata": {},
   "source": [
    "Now that we have time set up we can create an array to store the sediment flux output in time"
   ]
  },
  {
   "cell_type": "code",
   "execution_count": 6,
   "metadata": {},
   "outputs": [],
   "source": [
    "q  = np.zeros(np.shape(times))"
   ]
  },
  {
   "cell_type": "markdown",
   "metadata": {},
   "source": [
    "Just before we loop in time, we need to save uplift in a new variable and make a new variable to help us plot."
   ]
  },
  {
   "cell_type": "code",
   "execution_count": 7,
   "metadata": {},
   "outputs": [],
   "source": [
    "up    = up0\n",
    "ui    = 0"
   ]
  },
  {
   "cell_type": "markdown",
   "metadata": {},
   "source": [
    "Now we loop over time to solve z(new)-z(old)/dt = -K(alpha * x^p)^m * S . We then at each time step calculate the differnece in elevation from the elevation prior to erosion and that after to get a sediment flux, q."
   ]
  },
  {
   "cell_type": "code",
   "execution_count": 8,
   "metadata": {},
   "outputs": [],
   "source": [
    "for k in times :\n",
    "    # update elevation by the uplift\n",
    "    z[0:nx-1] = z[0:nx-1] + up*dt\n",
    "\n",
    "    # store previous elevation\n",
    "    z_old = z\n",
    "     \n",
    "    # calculate slope from previous time step\n",
    "    z[z<1e-6] = 0  # avoid small numbers\n",
    "    ex_r = np.append(z[1:nx+1],[z[nx]],axis=0) # make an array of the upstream points\n",
    "    s1 = (z-ex_r)/dx # calculate the slope for every point \n",
    "    s1[s1<1e-4] = 0  # avoid small numbers\n",
    "\n",
    "    # solve\n",
    "    z = a * s1 * dt + z\n",
    "    \n",
    "    # calculate sediment flux\n",
    "    q[ui] = np.trapz(z_old-z) * dx/dt\n",
    "    ui = ui + 1"
   ]
  },
  {
   "cell_type": "markdown",
   "metadata": {},
   "source": [
    "Now we can plot the result"
   ]
  },
  {
   "cell_type": "code",
   "execution_count": 9,
   "metadata": {},
   "outputs": [
    {
     "data": {
      "image/png": "[encoded data removed]",
      "text/plain": [
       "<Figure size 432x288 with 1 Axes>"
      ]
     },
     "metadata": {
      "needs_background": "light"
     },
     "output_type": "display_data"
    }
   ],
   "source": [
    "plt.figure(1)\n",
    "plt.plot(1e-6*times,q/np.max(abs(q)))\n",
    "plt.xlabel('Time (Myr)')\n",
    "plt.ylabel('$q_s/q_s$(max)')\n",
    "plt.savefig('sp-2xup.png',)\n",
    "plt.show()"
   ]
  },
  {
   "cell_type": "code",
   "execution_count": null,
   "metadata": {},
   "outputs": [],
   "source": []
  }
 ],
 "metadata": {
  "kernelspec": {
   "display_name": "Python 3",
   "language": "python",
   "name": "python3"
  },
  "language_info": {
   "codemirror_mode": {
    "name": "ipython",
    "version": 3
   },
   "file_extension": ".py",
   "mimetype": "text/x-python",
   "name": "python",
   "nbconvert_exporter": "python",
   "pygments_lexer": "ipython3",
   "version": "3.7.0"
  }
 },
 "nbformat": 4,
 "nbformat_minor": 2
}
